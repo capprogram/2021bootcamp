{
 "cells": [
  {
   "cell_type": "markdown",
   "metadata": {},
   "source": [
    "# Pandas tutorial\n",
    "\n",
    "20 min total (48 lines, 2.5/min)\n",
    "\n",
    "1. Importing (2 min) (3 lines)\n",
    "2. Basic manipulation (4 min) (11 lines)\n",
    "3. Plotting (3 min) (6 lines)\n",
    "4. Merging/Reshaping (7 min) (17 lines)\n",
    "5. Dealing with missing values (4 min) (11 lines)\n",
    "\n",
    "Last updated: Rohan Isaac, 11 October 2016"
   ]
  },
  {
   "cell_type": "code",
   "execution_count": 1,
   "metadata": {
    "collapsed": false
   },
   "outputs": [
    {
     "name": "stderr",
     "output_type": "stream",
     "text": [
      "/usr/local/lib/python2.7/site-packages/matplotlib/font_manager.py:273: UserWarning: Matplotlib is building the font cache using fc-list. This may take a moment.\n",
      "  warnings.warn('Matplotlib is building the font cache using fc-list. This may take a moment.')\n"
     ]
    }
   ],
   "source": [
    "%matplotlib inline\n",
    "import matplotlib.pyplot as plt\n",
    "import numpy as np\n",
    "import pandas as pd"
   ]
  },
  {
   "cell_type": "markdown",
   "metadata": {},
   "source": [
    "## Importing and exporting data\n",
    "Use autocomplete to find out what all you can import (all start with read_). For details see\n",
    "\n",
    "http://pandas.pydata.org/pandas-docs/stable/io.html"
   ]
  },
  {
   "cell_type": "code",
   "execution_count": 2,
   "metadata": {
    "collapsed": false
   },
   "outputs": [],
   "source": [
    "eco = pd.read_csv('ECO_DR1_withradec.csv')"
   ]
  },
  {
   "cell_type": "markdown",
   "metadata": {},
   "source": [
    "Get a sense of what exists in the database\n",
    "\n",
    "Also see pd.tail() ...\n",
    "Note that jupyter notebooks output the results of the last expression evaluated, i.e. all these eco.head() etc. are returning a dataframe (the fundamental object in pandas)"
   ]
  },
  {
   "cell_type": "code",
   "execution_count": 3,
   "metadata": {
    "collapsed": false
   },
   "outputs": [
    {
     "data": {
      "text/html": [
       "<div>\n",
       "<table border=\"1\" class=\"dataframe\">\n",
       "  <thead>\n",
       "    <tr style=\"text-align: right;\">\n",
       "      <th></th>\n",
       "      <th>NAME</th>\n",
       "      <th>RADEG</th>\n",
       "      <th>DEDEG</th>\n",
       "      <th>CZ</th>\n",
       "      <th>LOGMSTAR</th>\n",
       "      <th>MODELU_RCORR</th>\n",
       "      <th>R90</th>\n",
       "      <th>MORPHEL</th>\n",
       "      <th>GRPCZ</th>\n",
       "      <th>FC</th>\n",
       "      <th>LOGMH</th>\n",
       "      <th>DEN1MPC</th>\n",
       "    </tr>\n",
       "  </thead>\n",
       "  <tbody>\n",
       "    <tr>\n",
       "      <th>0</th>\n",
       "      <td>ECO00001</td>\n",
       "      <td>139.374</td>\n",
       "      <td>25.966</td>\n",
       "      <td>6454.9</td>\n",
       "      <td>10.73</td>\n",
       "      <td>1.48</td>\n",
       "      <td>33.7</td>\n",
       "      <td>L</td>\n",
       "      <td>6454.9</td>\n",
       "      <td>1</td>\n",
       "      <td>12.17</td>\n",
       "      <td>0.54</td>\n",
       "    </tr>\n",
       "    <tr>\n",
       "      <th>1</th>\n",
       "      <td>ECO00002</td>\n",
       "      <td>185.078</td>\n",
       "      <td>8.533</td>\n",
       "      <td>4338.9</td>\n",
       "      <td>9.37</td>\n",
       "      <td>1.06</td>\n",
       "      <td>17.3</td>\n",
       "      <td>L</td>\n",
       "      <td>4293.3</td>\n",
       "      <td>1</td>\n",
       "      <td>11.21</td>\n",
       "      <td>0.65</td>\n",
       "    </tr>\n",
       "    <tr>\n",
       "      <th>2</th>\n",
       "      <td>ECO00003</td>\n",
       "      <td>144.112</td>\n",
       "      <td>9.606</td>\n",
       "      <td>5443.5</td>\n",
       "      <td>8.19</td>\n",
       "      <td>0.87</td>\n",
       "      <td>21.6</td>\n",
       "      <td>L</td>\n",
       "      <td>5425.4</td>\n",
       "      <td>0</td>\n",
       "      <td>11.14</td>\n",
       "      <td>1.03</td>\n",
       "    </tr>\n",
       "    <tr>\n",
       "      <th>3</th>\n",
       "      <td>ECO00004</td>\n",
       "      <td>144.992</td>\n",
       "      <td>9.179</td>\n",
       "      <td>6374.6</td>\n",
       "      <td>8.45</td>\n",
       "      <td>0.88</td>\n",
       "      <td>10.0</td>\n",
       "      <td>L</td>\n",
       "      <td>6374.6</td>\n",
       "      <td>1</td>\n",
       "      <td>10.77</td>\n",
       "      <td>0.31</td>\n",
       "    </tr>\n",
       "    <tr>\n",
       "      <th>4</th>\n",
       "      <td>ECO00005</td>\n",
       "      <td>145.612</td>\n",
       "      <td>10.219</td>\n",
       "      <td>5713.0</td>\n",
       "      <td>8.79</td>\n",
       "      <td>1.40</td>\n",
       "      <td>7.7</td>\n",
       "      <td>E</td>\n",
       "      <td>5713.0</td>\n",
       "      <td>1</td>\n",
       "      <td>10.77</td>\n",
       "      <td>0.64</td>\n",
       "    </tr>\n",
       "  </tbody>\n",
       "</table>\n",
       "</div>"
      ],
      "text/plain": [
       "       NAME    RADEG   DEDEG      CZ  LOGMSTAR  MODELU_RCORR   R90 MORPHEL  \\\n",
       "0  ECO00001  139.374  25.966  6454.9     10.73          1.48  33.7       L   \n",
       "1  ECO00002  185.078   8.533  4338.9      9.37          1.06  17.3       L   \n",
       "2  ECO00003  144.112   9.606  5443.5      8.19          0.87  21.6       L   \n",
       "3  ECO00004  144.992   9.179  6374.6      8.45          0.88  10.0       L   \n",
       "4  ECO00005  145.612  10.219  5713.0      8.79          1.40   7.7       E   \n",
       "\n",
       "    GRPCZ  FC  LOGMH  DEN1MPC  \n",
       "0  6454.9   1  12.17     0.54  \n",
       "1  4293.3   1  11.21     0.65  \n",
       "2  5425.4   0  11.14     1.03  \n",
       "3  6374.6   1  10.77     0.31  \n",
       "4  5713.0   1  10.77     0.64  "
      ]
     },
     "execution_count": 3,
     "metadata": {},
     "output_type": "execute_result"
    }
   ],
   "source": [
    "eco.head()"
   ]
  },
  {
   "cell_type": "markdown",
   "metadata": {},
   "source": [
    "Some useful output features (all start with to_)"
   ]
  },
  {
   "cell_type": "code",
   "execution_count": 4,
   "metadata": {
    "collapsed": false
   },
   "outputs": [
    {
     "data": {
      "text/plain": [
       "u'\\\\begin{tabular}{llrrrrrrlrrrr}\\n\\\\toprule\\n{} &      NAME &    RADEG &   DEDEG &      CZ &  LOGMSTAR &  MODELU\\\\_RCORR &   R90 & MORPHEL &   GRPCZ &  FC &  LOGMH &  DEN1MPC \\\\\\\\\\n\\\\midrule\\n0 &  ECO00001 &  139.374 &  25.966 &  6454.9 &     10.73 &          1.48 &  33.7 &       L &  6454.9 &   1 &  12.17 &     0.54 \\\\\\\\\\n1 &  ECO00002 &  185.078 &   8.533 &  4338.9 &      9.37 &          1.06 &  17.3 &       L &  4293.3 &   1 &  11.21 &     0.65 \\\\\\\\\\n2 &  ECO00003 &  144.112 &   9.606 &  5443.5 &      8.19 &          0.87 &  21.6 &       L &  5425.4 &   0 &  11.14 &     1.03 \\\\\\\\\\n3 &  ECO00004 &  144.992 &   9.179 &  6374.6 &      8.45 &          0.88 &  10.0 &       L &  6374.6 &   1 &  10.77 &     0.31 \\\\\\\\\\n4 &  ECO00005 &  145.612 &  10.219 &  5713.0 &      8.79 &          1.40 &   7.7 &       E &  5713.0 &   1 &  10.77 &     0.64 \\\\\\\\\\n\\\\bottomrule\\n\\\\end{tabular}\\n'"
      ]
     },
     "execution_count": 4,
     "metadata": {},
     "output_type": "execute_result"
    }
   ],
   "source": [
    "eco.head().to_latex()"
   ]
  },
  {
   "cell_type": "markdown",
   "metadata": {},
   "source": [
    "## Basic manipulation\n",
    "\n",
    "1. Viewing\n",
    "2. Basic stats\n",
    "3. Indexing\n",
    "4. Boolean filtering"
   ]
  },
  {
   "cell_type": "markdown",
   "metadata": {},
   "source": [
    "Accessing basic table information"
   ]
  },
  {
   "cell_type": "code",
   "execution_count": 5,
   "metadata": {
    "collapsed": false
   },
   "outputs": [
    {
     "name": "stdout",
     "output_type": "stream",
     "text": [
      "Index([u'NAME', u'RADEG', u'DEDEG', u'CZ', u'LOGMSTAR', u'MODELU_RCORR',\n",
      "       u'R90', u'MORPHEL', u'GRPCZ', u'FC', u'LOGMH', u'DEN1MPC'],\n",
      "      dtype='object') Int64Index([    0,     1,     2,     3,     4,     5,     6,     7,     8,\n",
      "                9,\n",
      "            ...\n",
      "            12671, 12672, 12673, 12674, 12675, 12676, 12677, 12678, 12679,\n",
      "            12680],\n",
      "           dtype='int64', length=12681)\n"
     ]
    }
   ],
   "source": [
    "print eco.columns, eco.index"
   ]
  },
  {
   "cell_type": "code",
   "execution_count": 6,
   "metadata": {
    "collapsed": false
   },
   "outputs": [
    {
     "data": {
      "text/plain": [
       "NAME             object\n",
       "RADEG           float64\n",
       "DEDEG           float64\n",
       "CZ              float64\n",
       "LOGMSTAR        float64\n",
       "MODELU_RCORR    float64\n",
       "R90             float64\n",
       "MORPHEL          object\n",
       "GRPCZ           float64\n",
       "FC                int64\n",
       "LOGMH           float64\n",
       "DEN1MPC         float64\n",
       "dtype: object"
      ]
     },
     "execution_count": 6,
     "metadata": {},
     "output_type": "execute_result"
    }
   ],
   "source": [
    "eco.dtypes"
   ]
  },
  {
   "cell_type": "code",
   "execution_count": 7,
   "metadata": {
    "collapsed": false
   },
   "outputs": [
    {
     "data": {
      "text/plain": [
       "(12681, 12)"
      ]
     },
     "execution_count": 7,
     "metadata": {},
     "output_type": "execute_result"
    }
   ],
   "source": [
    "eco.shape"
   ]
  },
  {
   "cell_type": "code",
   "execution_count": 8,
   "metadata": {
    "collapsed": false
   },
   "outputs": [
    {
     "data": {
      "text/html": [
       "<div>\n",
       "<table border=\"1\" class=\"dataframe\">\n",
       "  <thead>\n",
       "    <tr style=\"text-align: right;\">\n",
       "      <th></th>\n",
       "      <th>RADEG</th>\n",
       "      <th>DEDEG</th>\n",
       "      <th>CZ</th>\n",
       "      <th>LOGMSTAR</th>\n",
       "      <th>MODELU_RCORR</th>\n",
       "      <th>R90</th>\n",
       "      <th>GRPCZ</th>\n",
       "      <th>FC</th>\n",
       "      <th>LOGMH</th>\n",
       "      <th>DEN1MPC</th>\n",
       "    </tr>\n",
       "  </thead>\n",
       "  <tbody>\n",
       "    <tr>\n",
       "      <th>count</th>\n",
       "      <td>12681.000000</td>\n",
       "      <td>12681.000000</td>\n",
       "      <td>12681.000000</td>\n",
       "      <td>12681.000000</td>\n",
       "      <td>12681.000000</td>\n",
       "      <td>12681.000000</td>\n",
       "      <td>12681.000000</td>\n",
       "      <td>12681.000000</td>\n",
       "      <td>12681.000000</td>\n",
       "      <td>12681.000000</td>\n",
       "    </tr>\n",
       "    <tr>\n",
       "      <th>mean</th>\n",
       "      <td>182.848394</td>\n",
       "      <td>22.144056</td>\n",
       "      <td>6165.728831</td>\n",
       "      <td>9.404953</td>\n",
       "      <td>1.414774</td>\n",
       "      <td>21.702066</td>\n",
       "      <td>6165.721725</td>\n",
       "      <td>0.699077</td>\n",
       "      <td>11.595976</td>\n",
       "      <td>1.834956</td>\n",
       "    </tr>\n",
       "    <tr>\n",
       "      <th>std</th>\n",
       "      <td>25.587928</td>\n",
       "      <td>13.012150</td>\n",
       "      <td>1136.019986</td>\n",
       "      <td>0.712201</td>\n",
       "      <td>1.055519</td>\n",
       "      <td>16.350912</td>\n",
       "      <td>1129.628404</td>\n",
       "      <td>0.458677</td>\n",
       "      <td>0.874147</td>\n",
       "      <td>3.311597</td>\n",
       "    </tr>\n",
       "    <tr>\n",
       "      <th>min</th>\n",
       "      <td>130.065000</td>\n",
       "      <td>-0.998000</td>\n",
       "      <td>2532.800000</td>\n",
       "      <td>6.390000</td>\n",
       "      <td>-99.990000</td>\n",
       "      <td>-99.900000</td>\n",
       "      <td>2532.800000</td>\n",
       "      <td>0.000000</td>\n",
       "      <td>10.740000</td>\n",
       "      <td>0.000000</td>\n",
       "    </tr>\n",
       "    <tr>\n",
       "      <th>25%</th>\n",
       "      <td>163.735000</td>\n",
       "      <td>11.305000</td>\n",
       "      <td>5696.500000</td>\n",
       "      <td>8.810000</td>\n",
       "      <td>0.950000</td>\n",
       "      <td>11.900000</td>\n",
       "      <td>5721.400000</td>\n",
       "      <td>0.000000</td>\n",
       "      <td>10.960000</td>\n",
       "      <td>0.520000</td>\n",
       "    </tr>\n",
       "    <tr>\n",
       "      <th>50%</th>\n",
       "      <td>183.040000</td>\n",
       "      <td>22.276000</td>\n",
       "      <td>6516.900000</td>\n",
       "      <td>9.290000</td>\n",
       "      <td>1.250000</td>\n",
       "      <td>17.500000</td>\n",
       "      <td>6536.400000</td>\n",
       "      <td>1.000000</td>\n",
       "      <td>11.290000</td>\n",
       "      <td>0.950000</td>\n",
       "    </tr>\n",
       "    <tr>\n",
       "      <th>75%</th>\n",
       "      <td>202.103000</td>\n",
       "      <td>31.671000</td>\n",
       "      <td>6989.600000</td>\n",
       "      <td>9.930000</td>\n",
       "      <td>1.980000</td>\n",
       "      <td>26.200000</td>\n",
       "      <td>6978.000000</td>\n",
       "      <td>1.000000</td>\n",
       "      <td>11.920000</td>\n",
       "      <td>1.820000</td>\n",
       "    </tr>\n",
       "    <tr>\n",
       "      <th>max</th>\n",
       "      <td>237.445000</td>\n",
       "      <td>49.845000</td>\n",
       "      <td>7470.000000</td>\n",
       "      <td>11.770000</td>\n",
       "      <td>3.110000</td>\n",
       "      <td>221.100000</td>\n",
       "      <td>7469.900000</td>\n",
       "      <td>1.000000</td>\n",
       "      <td>14.450000</td>\n",
       "      <td>27.790000</td>\n",
       "    </tr>\n",
       "  </tbody>\n",
       "</table>\n",
       "</div>"
      ],
      "text/plain": [
       "              RADEG         DEDEG            CZ      LOGMSTAR  MODELU_RCORR  \\\n",
       "count  12681.000000  12681.000000  12681.000000  12681.000000  12681.000000   \n",
       "mean     182.848394     22.144056   6165.728831      9.404953      1.414774   \n",
       "std       25.587928     13.012150   1136.019986      0.712201      1.055519   \n",
       "min      130.065000     -0.998000   2532.800000      6.390000    -99.990000   \n",
       "25%      163.735000     11.305000   5696.500000      8.810000      0.950000   \n",
       "50%      183.040000     22.276000   6516.900000      9.290000      1.250000   \n",
       "75%      202.103000     31.671000   6989.600000      9.930000      1.980000   \n",
       "max      237.445000     49.845000   7470.000000     11.770000      3.110000   \n",
       "\n",
       "                R90         GRPCZ            FC         LOGMH       DEN1MPC  \n",
       "count  12681.000000  12681.000000  12681.000000  12681.000000  12681.000000  \n",
       "mean      21.702066   6165.721725      0.699077     11.595976      1.834956  \n",
       "std       16.350912   1129.628404      0.458677      0.874147      3.311597  \n",
       "min      -99.900000   2532.800000      0.000000     10.740000      0.000000  \n",
       "25%       11.900000   5721.400000      0.000000     10.960000      0.520000  \n",
       "50%       17.500000   6536.400000      1.000000     11.290000      0.950000  \n",
       "75%       26.200000   6978.000000      1.000000     11.920000      1.820000  \n",
       "max      221.100000   7469.900000      1.000000     14.450000     27.790000  "
      ]
     },
     "execution_count": 8,
     "metadata": {},
     "output_type": "execute_result"
    }
   ],
   "source": [
    "eco.describe()"
   ]
  },
  {
   "cell_type": "markdown",
   "metadata": {},
   "source": [
    "Selecting only particluar columns by names"
   ]
  },
  {
   "cell_type": "code",
   "execution_count": 9,
   "metadata": {
    "collapsed": false
   },
   "outputs": [
    {
     "data": {
      "text/html": [
       "<div>\n",
       "<table border=\"1\" class=\"dataframe\">\n",
       "  <thead>\n",
       "    <tr style=\"text-align: right;\">\n",
       "      <th></th>\n",
       "      <th>CZ</th>\n",
       "      <th>GRPCZ</th>\n",
       "    </tr>\n",
       "  </thead>\n",
       "  <tbody>\n",
       "    <tr>\n",
       "      <th>0</th>\n",
       "      <td>6454.9</td>\n",
       "      <td>6454.9</td>\n",
       "    </tr>\n",
       "    <tr>\n",
       "      <th>1</th>\n",
       "      <td>4338.9</td>\n",
       "      <td>4293.3</td>\n",
       "    </tr>\n",
       "    <tr>\n",
       "      <th>2</th>\n",
       "      <td>5443.5</td>\n",
       "      <td>5425.4</td>\n",
       "    </tr>\n",
       "    <tr>\n",
       "      <th>3</th>\n",
       "      <td>6374.6</td>\n",
       "      <td>6374.6</td>\n",
       "    </tr>\n",
       "    <tr>\n",
       "      <th>4</th>\n",
       "      <td>5713.0</td>\n",
       "      <td>5713.0</td>\n",
       "    </tr>\n",
       "  </tbody>\n",
       "</table>\n",
       "</div>"
      ],
      "text/plain": [
       "       CZ   GRPCZ\n",
       "0  6454.9  6454.9\n",
       "1  4338.9  4293.3\n",
       "2  5443.5  5425.4\n",
       "3  6374.6  6374.6\n",
       "4  5713.0  5713.0"
      ]
     },
     "execution_count": 9,
     "metadata": {},
     "output_type": "execute_result"
    }
   ],
   "source": [
    "eco[['CZ', 'GRPCZ']].head()"
   ]
  },
  {
   "cell_type": "markdown",
   "metadata": {},
   "source": [
    "Selecting by index"
   ]
  },
  {
   "cell_type": "code",
   "execution_count": 10,
   "metadata": {
    "collapsed": false
   },
   "outputs": [
    {
     "data": {
      "text/html": [
       "<div>\n",
       "<table border=\"1\" class=\"dataframe\">\n",
       "  <thead>\n",
       "    <tr style=\"text-align: right;\">\n",
       "      <th></th>\n",
       "      <th>LOGMH</th>\n",
       "      <th>DEN1MPC</th>\n",
       "    </tr>\n",
       "  </thead>\n",
       "  <tbody>\n",
       "    <tr>\n",
       "      <th>5</th>\n",
       "      <td>10.77</td>\n",
       "      <td>0.37</td>\n",
       "    </tr>\n",
       "    <tr>\n",
       "      <th>6</th>\n",
       "      <td>10.76</td>\n",
       "      <td>1.52</td>\n",
       "    </tr>\n",
       "    <tr>\n",
       "      <th>7</th>\n",
       "      <td>10.76</td>\n",
       "      <td>0.32</td>\n",
       "    </tr>\n",
       "    <tr>\n",
       "      <th>8</th>\n",
       "      <td>10.75</td>\n",
       "      <td>0.41</td>\n",
       "    </tr>\n",
       "    <tr>\n",
       "      <th>9</th>\n",
       "      <td>10.78</td>\n",
       "      <td>0.20</td>\n",
       "    </tr>\n",
       "  </tbody>\n",
       "</table>\n",
       "</div>"
      ],
      "text/plain": [
       "   LOGMH  DEN1MPC\n",
       "5  10.77     0.37\n",
       "6  10.76     1.52\n",
       "7  10.76     0.32\n",
       "8  10.75     0.41\n",
       "9  10.78     0.20"
      ]
     },
     "execution_count": 10,
     "metadata": {},
     "output_type": "execute_result"
    }
   ],
   "source": [
    "eco.iloc[5:10, 10:12]"
   ]
  },
  {
   "cell_type": "markdown",
   "metadata": {},
   "source": [
    "Boolean selection"
   ]
  },
  {
   "cell_type": "code",
   "execution_count": 11,
   "metadata": {
    "collapsed": false
   },
   "outputs": [
    {
     "data": {
      "text/html": [
       "<div>\n",
       "<table border=\"1\" class=\"dataframe\">\n",
       "  <thead>\n",
       "    <tr style=\"text-align: right;\">\n",
       "      <th></th>\n",
       "      <th>NAME</th>\n",
       "      <th>RADEG</th>\n",
       "      <th>DEDEG</th>\n",
       "      <th>CZ</th>\n",
       "      <th>LOGMSTAR</th>\n",
       "      <th>MODELU_RCORR</th>\n",
       "      <th>R90</th>\n",
       "      <th>MORPHEL</th>\n",
       "      <th>GRPCZ</th>\n",
       "      <th>FC</th>\n",
       "      <th>LOGMH</th>\n",
       "      <th>DEN1MPC</th>\n",
       "    </tr>\n",
       "  </thead>\n",
       "  <tbody>\n",
       "    <tr>\n",
       "      <th>1043</th>\n",
       "      <td>ECO01044</td>\n",
       "      <td>149.278</td>\n",
       "      <td>5.129</td>\n",
       "      <td>5179.2</td>\n",
       "      <td>9.63</td>\n",
       "      <td>1.47</td>\n",
       "      <td>2.5</td>\n",
       "      <td>E</td>\n",
       "      <td>5179.2</td>\n",
       "      <td>1</td>\n",
       "      <td>11.55</td>\n",
       "      <td>0.28</td>\n",
       "    </tr>\n",
       "    <tr>\n",
       "      <th>1093</th>\n",
       "      <td>ECO01094</td>\n",
       "      <td>180.866</td>\n",
       "      <td>22.038</td>\n",
       "      <td>6383.6</td>\n",
       "      <td>9.35</td>\n",
       "      <td>1.54</td>\n",
       "      <td>2.5</td>\n",
       "      <td>E</td>\n",
       "      <td>6412.5</td>\n",
       "      <td>1</td>\n",
       "      <td>11.25</td>\n",
       "      <td>1.41</td>\n",
       "    </tr>\n",
       "    <tr>\n",
       "      <th>1097</th>\n",
       "      <td>ECO01098</td>\n",
       "      <td>235.230</td>\n",
       "      <td>4.486</td>\n",
       "      <td>3901.5</td>\n",
       "      <td>8.93</td>\n",
       "      <td>1.10</td>\n",
       "      <td>2.7</td>\n",
       "      <td>E</td>\n",
       "      <td>3901.5</td>\n",
       "      <td>1</td>\n",
       "      <td>11.18</td>\n",
       "      <td>0.42</td>\n",
       "    </tr>\n",
       "    <tr>\n",
       "      <th>7299</th>\n",
       "      <td>ECO07300</td>\n",
       "      <td>182.630</td>\n",
       "      <td>0.673</td>\n",
       "      <td>5845.1</td>\n",
       "      <td>9.35</td>\n",
       "      <td>2.31</td>\n",
       "      <td>2.9</td>\n",
       "      <td>E</td>\n",
       "      <td>5960.5</td>\n",
       "      <td>0</td>\n",
       "      <td>12.04</td>\n",
       "      <td>3.97</td>\n",
       "    </tr>\n",
       "    <tr>\n",
       "      <th>12680</th>\n",
       "      <td>ECO12681</td>\n",
       "      <td>142.441</td>\n",
       "      <td>2.201</td>\n",
       "      <td>6823.4</td>\n",
       "      <td>9.39</td>\n",
       "      <td>-99.99</td>\n",
       "      <td>-99.9</td>\n",
       "      <td>E</td>\n",
       "      <td>7121.6</td>\n",
       "      <td>0</td>\n",
       "      <td>12.82</td>\n",
       "      <td>1.74</td>\n",
       "    </tr>\n",
       "  </tbody>\n",
       "</table>\n",
       "</div>"
      ],
      "text/plain": [
       "           NAME    RADEG   DEDEG      CZ  LOGMSTAR  MODELU_RCORR   R90  \\\n",
       "1043   ECO01044  149.278   5.129  5179.2      9.63          1.47   2.5   \n",
       "1093   ECO01094  180.866  22.038  6383.6      9.35          1.54   2.5   \n",
       "1097   ECO01098  235.230   4.486  3901.5      8.93          1.10   2.7   \n",
       "7299   ECO07300  182.630   0.673  5845.1      9.35          2.31   2.9   \n",
       "12680  ECO12681  142.441   2.201  6823.4      9.39        -99.99 -99.9   \n",
       "\n",
       "      MORPHEL   GRPCZ  FC  LOGMH  DEN1MPC  \n",
       "1043        E  5179.2   1  11.55     0.28  \n",
       "1093        E  6412.5   1  11.25     1.41  \n",
       "1097        E  3901.5   1  11.18     0.42  \n",
       "7299        E  5960.5   0  12.04     3.97  \n",
       "12680       E  7121.6   0  12.82     1.74  "
      ]
     },
     "execution_count": 11,
     "metadata": {},
     "output_type": "execute_result"
    }
   ],
   "source": [
    "eco[eco['R90'] < 3]"
   ]
  },
  {
   "cell_type": "markdown",
   "metadata": {},
   "source": [
    "Multiple criteria"
   ]
  },
  {
   "cell_type": "code",
   "execution_count": 12,
   "metadata": {
    "collapsed": false
   },
   "outputs": [
    {
     "data": {
      "text/plain": [
       "1168     ECO01169\n",
       "2028     ECO02029\n",
       "11060    ECO11061\n",
       "11447    ECO11448\n",
       "Name: NAME, dtype: object"
      ]
     },
     "execution_count": 12,
     "metadata": {},
     "output_type": "execute_result"
    }
   ],
   "source": [
    "eco[(eco['R90'] < 3.5) & (eco['R90'] > 3)]['NAME']"
   ]
  },
  {
   "cell_type": "markdown",
   "metadata": {},
   "source": [
    "Using the underlying numpy values"
   ]
  },
  {
   "cell_type": "code",
   "execution_count": 13,
   "metadata": {
    "collapsed": false
   },
   "outputs": [
    {
     "name": "stdout",
     "output_type": "stream",
     "text": [
      "<type 'numpy.ndarray'>\n"
     ]
    },
    {
     "data": {
      "text/plain": [
       "array([[ 139.374,   25.966],\n",
       "       [ 185.078,    8.533],\n",
       "       [ 144.112,    9.606],\n",
       "       ..., \n",
       "       [ 191.969,   18.053],\n",
       "       [ 181.121,    1.894],\n",
       "       [ 142.441,    2.201]])"
      ]
     },
     "execution_count": 13,
     "metadata": {},
     "output_type": "execute_result"
    }
   ],
   "source": [
    "arr1 = eco[['RADEG', 'DEDEG']].values\n",
    "print type(arr1)\n",
    "arr1"
   ]
  },
  {
   "cell_type": "markdown",
   "metadata": {},
   "source": [
    "##  Applying functions"
   ]
  },
  {
   "cell_type": "code",
   "execution_count": 14,
   "metadata": {
    "collapsed": true
   },
   "outputs": [],
   "source": [
    "eco['vel_diff'] = eco['CZ'] - eco['GRPCZ']"
   ]
  },
  {
   "cell_type": "code",
   "execution_count": 15,
   "metadata": {
    "collapsed": false
   },
   "outputs": [],
   "source": [
    "eco['m_vel_sum'] = (eco.CZ + eco.GRPCZ)/1000"
   ]
  },
  {
   "cell_type": "code",
   "execution_count": 16,
   "metadata": {
    "collapsed": false
   },
   "outputs": [
    {
     "data": {
      "text/html": [
       "<div>\n",
       "<table border=\"1\" class=\"dataframe\">\n",
       "  <thead>\n",
       "    <tr style=\"text-align: right;\">\n",
       "      <th></th>\n",
       "      <th>NAME</th>\n",
       "      <th>RADEG</th>\n",
       "      <th>DEDEG</th>\n",
       "      <th>CZ</th>\n",
       "      <th>LOGMSTAR</th>\n",
       "      <th>MODELU_RCORR</th>\n",
       "      <th>R90</th>\n",
       "      <th>MORPHEL</th>\n",
       "      <th>GRPCZ</th>\n",
       "      <th>FC</th>\n",
       "      <th>LOGMH</th>\n",
       "      <th>DEN1MPC</th>\n",
       "      <th>vel_diff</th>\n",
       "      <th>m_vel_sum</th>\n",
       "      <th>MSTAR</th>\n",
       "      <th>MH</th>\n",
       "    </tr>\n",
       "  </thead>\n",
       "  <tbody>\n",
       "    <tr>\n",
       "      <th>0</th>\n",
       "      <td>ECO00001</td>\n",
       "      <td>139.374</td>\n",
       "      <td>25.966</td>\n",
       "      <td>6454.9</td>\n",
       "      <td>10.73</td>\n",
       "      <td>1.48</td>\n",
       "      <td>33.7</td>\n",
       "      <td>L</td>\n",
       "      <td>6454.9</td>\n",
       "      <td>1</td>\n",
       "      <td>12.17</td>\n",
       "      <td>0.54</td>\n",
       "      <td>0.0</td>\n",
       "      <td>12.9098</td>\n",
       "      <td>45706.692026</td>\n",
       "      <td>192914.043845</td>\n",
       "    </tr>\n",
       "    <tr>\n",
       "      <th>1</th>\n",
       "      <td>ECO00002</td>\n",
       "      <td>185.078</td>\n",
       "      <td>8.533</td>\n",
       "      <td>4338.9</td>\n",
       "      <td>9.37</td>\n",
       "      <td>1.06</td>\n",
       "      <td>17.3</td>\n",
       "      <td>L</td>\n",
       "      <td>4293.3</td>\n",
       "      <td>1</td>\n",
       "      <td>11.21</td>\n",
       "      <td>0.65</td>\n",
       "      <td>45.6</td>\n",
       "      <td>8.6322</td>\n",
       "      <td>11731.115087</td>\n",
       "      <td>73865.414993</td>\n",
       "    </tr>\n",
       "    <tr>\n",
       "      <th>2</th>\n",
       "      <td>ECO00003</td>\n",
       "      <td>144.112</td>\n",
       "      <td>9.606</td>\n",
       "      <td>5443.5</td>\n",
       "      <td>8.19</td>\n",
       "      <td>0.87</td>\n",
       "      <td>21.6</td>\n",
       "      <td>L</td>\n",
       "      <td>5425.4</td>\n",
       "      <td>0</td>\n",
       "      <td>11.14</td>\n",
       "      <td>1.03</td>\n",
       "      <td>18.1</td>\n",
       "      <td>10.8689</td>\n",
       "      <td>3604.722246</td>\n",
       "      <td>68871.656444</td>\n",
       "    </tr>\n",
       "    <tr>\n",
       "      <th>3</th>\n",
       "      <td>ECO00004</td>\n",
       "      <td>144.992</td>\n",
       "      <td>9.179</td>\n",
       "      <td>6374.6</td>\n",
       "      <td>8.45</td>\n",
       "      <td>0.88</td>\n",
       "      <td>10.0</td>\n",
       "      <td>L</td>\n",
       "      <td>6374.6</td>\n",
       "      <td>1</td>\n",
       "      <td>10.77</td>\n",
       "      <td>0.31</td>\n",
       "      <td>0.0</td>\n",
       "      <td>12.7492</td>\n",
       "      <td>4675.072736</td>\n",
       "      <td>47572.017514</td>\n",
       "    </tr>\n",
       "    <tr>\n",
       "      <th>4</th>\n",
       "      <td>ECO00005</td>\n",
       "      <td>145.612</td>\n",
       "      <td>10.219</td>\n",
       "      <td>5713.0</td>\n",
       "      <td>8.79</td>\n",
       "      <td>1.40</td>\n",
       "      <td>7.7</td>\n",
       "      <td>E</td>\n",
       "      <td>5713.0</td>\n",
       "      <td>1</td>\n",
       "      <td>10.77</td>\n",
       "      <td>0.64</td>\n",
       "      <td>0.0</td>\n",
       "      <td>11.4260</td>\n",
       "      <td>6568.232175</td>\n",
       "      <td>47572.017514</td>\n",
       "    </tr>\n",
       "  </tbody>\n",
       "</table>\n",
       "</div>"
      ],
      "text/plain": [
       "       NAME    RADEG   DEDEG      CZ  LOGMSTAR  MODELU_RCORR   R90 MORPHEL  \\\n",
       "0  ECO00001  139.374  25.966  6454.9     10.73          1.48  33.7       L   \n",
       "1  ECO00002  185.078   8.533  4338.9      9.37          1.06  17.3       L   \n",
       "2  ECO00003  144.112   9.606  5443.5      8.19          0.87  21.6       L   \n",
       "3  ECO00004  144.992   9.179  6374.6      8.45          0.88  10.0       L   \n",
       "4  ECO00005  145.612  10.219  5713.0      8.79          1.40   7.7       E   \n",
       "\n",
       "    GRPCZ  FC  LOGMH  DEN1MPC  vel_diff  m_vel_sum         MSTAR  \\\n",
       "0  6454.9   1  12.17     0.54       0.0    12.9098  45706.692026   \n",
       "1  4293.3   1  11.21     0.65      45.6     8.6322  11731.115087   \n",
       "2  5425.4   0  11.14     1.03      18.1    10.8689   3604.722246   \n",
       "3  6374.6   1  10.77     0.31       0.0    12.7492   4675.072736   \n",
       "4  5713.0   1  10.77     0.64       0.0    11.4260   6568.232175   \n",
       "\n",
       "              MH  \n",
       "0  192914.043845  \n",
       "1   73865.414993  \n",
       "2   68871.656444  \n",
       "3   47572.017514  \n",
       "4   47572.017514  "
      ]
     },
     "execution_count": 16,
     "metadata": {},
     "output_type": "execute_result"
    }
   ],
   "source": [
    "eco[['MSTAR', 'MH']] = eco[['LOGMSTAR', 'LOGMH']].apply(np.exp)\n",
    "eco.head()"
   ]
  },
  {
   "cell_type": "code",
   "execution_count": 17,
   "metadata": {
    "collapsed": false
   },
   "outputs": [
    {
     "data": {
      "text/html": [
       "<div>\n",
       "<table border=\"1\" class=\"dataframe\">\n",
       "  <thead>\n",
       "    <tr style=\"text-align: right;\">\n",
       "      <th></th>\n",
       "      <th>NAME</th>\n",
       "      <th>RADEG</th>\n",
       "      <th>DEDEG</th>\n",
       "      <th>CZ</th>\n",
       "      <th>LOGMSTAR</th>\n",
       "      <th>MODELU_RCORR</th>\n",
       "      <th>R90</th>\n",
       "      <th>MORPHEL</th>\n",
       "      <th>GRPCZ</th>\n",
       "      <th>FC</th>\n",
       "      <th>LOGMH</th>\n",
       "      <th>DEN1MPC</th>\n",
       "      <th>m_vel_sum</th>\n",
       "      <th>MSTAR</th>\n",
       "      <th>MH</th>\n",
       "    </tr>\n",
       "  </thead>\n",
       "  <tbody>\n",
       "    <tr>\n",
       "      <th>0</th>\n",
       "      <td>ECO00001</td>\n",
       "      <td>139.374</td>\n",
       "      <td>25.966</td>\n",
       "      <td>6454.9</td>\n",
       "      <td>10.73</td>\n",
       "      <td>1.48</td>\n",
       "      <td>33.7</td>\n",
       "      <td>L</td>\n",
       "      <td>6454.9</td>\n",
       "      <td>1</td>\n",
       "      <td>12.17</td>\n",
       "      <td>0.54</td>\n",
       "      <td>12.9098</td>\n",
       "      <td>45706.692026</td>\n",
       "      <td>192914.043845</td>\n",
       "    </tr>\n",
       "    <tr>\n",
       "      <th>1</th>\n",
       "      <td>ECO00002</td>\n",
       "      <td>185.078</td>\n",
       "      <td>8.533</td>\n",
       "      <td>4338.9</td>\n",
       "      <td>9.37</td>\n",
       "      <td>1.06</td>\n",
       "      <td>17.3</td>\n",
       "      <td>L</td>\n",
       "      <td>4293.3</td>\n",
       "      <td>1</td>\n",
       "      <td>11.21</td>\n",
       "      <td>0.65</td>\n",
       "      <td>8.6322</td>\n",
       "      <td>11731.115087</td>\n",
       "      <td>73865.414993</td>\n",
       "    </tr>\n",
       "    <tr>\n",
       "      <th>2</th>\n",
       "      <td>ECO00003</td>\n",
       "      <td>144.112</td>\n",
       "      <td>9.606</td>\n",
       "      <td>5443.5</td>\n",
       "      <td>8.19</td>\n",
       "      <td>0.87</td>\n",
       "      <td>21.6</td>\n",
       "      <td>L</td>\n",
       "      <td>5425.4</td>\n",
       "      <td>0</td>\n",
       "      <td>11.14</td>\n",
       "      <td>1.03</td>\n",
       "      <td>10.8689</td>\n",
       "      <td>3604.722246</td>\n",
       "      <td>68871.656444</td>\n",
       "    </tr>\n",
       "    <tr>\n",
       "      <th>3</th>\n",
       "      <td>ECO00004</td>\n",
       "      <td>144.992</td>\n",
       "      <td>9.179</td>\n",
       "      <td>6374.6</td>\n",
       "      <td>8.45</td>\n",
       "      <td>0.88</td>\n",
       "      <td>10.0</td>\n",
       "      <td>L</td>\n",
       "      <td>6374.6</td>\n",
       "      <td>1</td>\n",
       "      <td>10.77</td>\n",
       "      <td>0.31</td>\n",
       "      <td>12.7492</td>\n",
       "      <td>4675.072736</td>\n",
       "      <td>47572.017514</td>\n",
       "    </tr>\n",
       "    <tr>\n",
       "      <th>4</th>\n",
       "      <td>ECO00005</td>\n",
       "      <td>145.612</td>\n",
       "      <td>10.219</td>\n",
       "      <td>5713.0</td>\n",
       "      <td>8.79</td>\n",
       "      <td>1.40</td>\n",
       "      <td>7.7</td>\n",
       "      <td>E</td>\n",
       "      <td>5713.0</td>\n",
       "      <td>1</td>\n",
       "      <td>10.77</td>\n",
       "      <td>0.64</td>\n",
       "      <td>11.4260</td>\n",
       "      <td>6568.232175</td>\n",
       "      <td>47572.017514</td>\n",
       "    </tr>\n",
       "  </tbody>\n",
       "</table>\n",
       "</div>"
      ],
      "text/plain": [
       "       NAME    RADEG   DEDEG      CZ  LOGMSTAR  MODELU_RCORR   R90 MORPHEL  \\\n",
       "0  ECO00001  139.374  25.966  6454.9     10.73          1.48  33.7       L   \n",
       "1  ECO00002  185.078   8.533  4338.9      9.37          1.06  17.3       L   \n",
       "2  ECO00003  144.112   9.606  5443.5      8.19          0.87  21.6       L   \n",
       "3  ECO00004  144.992   9.179  6374.6      8.45          0.88  10.0       L   \n",
       "4  ECO00005  145.612  10.219  5713.0      8.79          1.40   7.7       E   \n",
       "\n",
       "    GRPCZ  FC  LOGMH  DEN1MPC  m_vel_sum         MSTAR             MH  \n",
       "0  6454.9   1  12.17     0.54    12.9098  45706.692026  192914.043845  \n",
       "1  4293.3   1  11.21     0.65     8.6322  11731.115087   73865.414993  \n",
       "2  5425.4   0  11.14     1.03    10.8689   3604.722246   68871.656444  \n",
       "3  6374.6   1  10.77     0.31    12.7492   4675.072736   47572.017514  \n",
       "4  5713.0   1  10.77     0.64    11.4260   6568.232175   47572.017514  "
      ]
     },
     "execution_count": 17,
     "metadata": {},
     "output_type": "execute_result"
    }
   ],
   "source": [
    "eco.drop('vel_diff', axis=1, inplace=True)\n",
    "eco.head()"
   ]
  },
  {
   "cell_type": "markdown",
   "metadata": {},
   "source": [
    "## Quick plotting\n",
    "\n",
    "http://pandas.pydata.org/pandas-docs/stable/visualization.html"
   ]
  },
  {
   "cell_type": "code",
   "execution_count": 18,
   "metadata": {
    "collapsed": false
   },
   "outputs": [
    {
     "name": "stdout",
     "output_type": "stream",
     "text": [
      "[u'seaborn-darkgrid', u'seaborn-notebook', u'classic', u'seaborn-ticks', u'grayscale', u'bmh', u'seaborn-talk', u'dark_background', u'ggplot', u'fivethirtyeight', u'seaborn-colorblind', u'seaborn-deep', u'seaborn-whitegrid', u'seaborn-bright', u'seaborn-poster', u'seaborn-muted', u'seaborn-paper', u'seaborn-white', u'seaborn-pastel', u'seaborn-dark', u'seaborn-dark-palette']\n"
     ]
    }
   ],
   "source": [
    "print plt.style.available\n",
    "plt.style.use('ggplot')\n",
    "plt.rcParams['figure.figsize'] = (20.0, 10.0)"
   ]
  },
  {
   "cell_type": "markdown",
   "metadata": {},
   "source": [
    "Note `plot(kind='hist', ...)` equivalent to `plot.hist(...)` etc."
   ]
  },
  {
   "cell_type": "code",
   "execution_count": 19,
   "metadata": {
    "collapsed": false
   },
   "outputs": [
    {
     "data": {
      "text/plain": [
       "<matplotlib.axes._subplots.AxesSubplot at 0x10d4e8610>"
      ]
     },
     "execution_count": 19,
     "metadata": {},
     "output_type": "execute_result"
    },
    {
     "data": {
      "image/png": "[encoded data removed]",
      "text/plain": [
       "<matplotlib.figure.Figure at 0x10d4d2d90>"
      ]
     },
     "metadata": {},
     "output_type": "display_data"
    }
   ],
   "source": [
    "ax = eco[['GRPCZ', 'CZ']].plot(kind='hist', bins=50, alpha=0.7, normed=True)\n",
    "eco[['GRPCZ', 'CZ']].plot(kind='kde', ax=ax)"
   ]
  },
  {
   "cell_type": "code",
   "execution_count": 20,
   "metadata": {
    "collapsed": false
   },
   "outputs": [
    {
     "data": {
      "text/plain": [
       "<matplotlib.axes._subplots.AxesSubplot at 0x110546390>"
      ]
     },
     "execution_count": 20,
     "metadata": {},
     "output_type": "execute_result"
    },
    {
     "data": {
      "image/png": "[encoded data removed]",
      "text/plain": [
       "<matplotlib.figure.Figure at 0x1104a1790>"
      ]
     },
     "metadata": {},
     "output_type": "display_data"
    }
   ],
   "source": [
    "eco[eco.CZ > 7200].plot(x='RADEG', y='DEDEG', c='LOGMSTAR', s=eco['R90'], kind='scatter', cmap='viridis')"
   ]
  },
  {
   "cell_type": "markdown",
   "metadata": {},
   "source": [
    "## Merge and reshape\n",
    "\n",
    "Basic joining (concatenate) (http://pandas.pydata.org/pandas-docs/stable/_images/merging_concat_basic.png) and reshaping are similar to what can be done on numpy array, not going into details here. Focus on more interesting features now.\n",
    "\n",
    "Merging (SQL join) two tables based a common value"
   ]
  },
  {
   "cell_type": "code",
   "execution_count": 21,
   "metadata": {
    "collapsed": false
   },
   "outputs": [
    {
     "data": {
      "text/plain": [
       "Index([u'NAME', u'RADEG', u'DEDEG', u'CZ', u'LOGMSTAR', u'MODELU_RCORR',\n",
       "       u'R90', u'MORPHEL', u'GRPCZ', u'FC', u'LOGMH', u'DEN1MPC', u'm_vel_sum',\n",
       "       u'MSTAR', u'MH'],\n",
       "      dtype='object')"
      ]
     },
     "execution_count": 21,
     "metadata": {},
     "output_type": "execute_result"
    }
   ],
   "source": [
    "eco.columns"
   ]
  },
  {
   "cell_type": "code",
   "execution_count": 22,
   "metadata": {
    "collapsed": true
   },
   "outputs": [],
   "source": [
    "t1 = eco[['NAME', 'RADEG', 'DEDEG']].head(50)\n",
    "t2 = eco[eco['LOGMSTAR'] < 8.5]"
   ]
  },
  {
   "cell_type": "code",
   "execution_count": 23,
   "metadata": {
    "collapsed": false
   },
   "outputs": [
    {
     "name": "stdout",
     "output_type": "stream",
     "text": [
      "(50, 3)\n"
     ]
    },
    {
     "data": {
      "text/html": [
       "<div>\n",
       "<table border=\"1\" class=\"dataframe\">\n",
       "  <thead>\n",
       "    <tr style=\"text-align: right;\">\n",
       "      <th></th>\n",
       "      <th>NAME</th>\n",
       "      <th>RADEG</th>\n",
       "      <th>DEDEG</th>\n",
       "    </tr>\n",
       "  </thead>\n",
       "  <tbody>\n",
       "    <tr>\n",
       "      <th>0</th>\n",
       "      <td>ECO00001</td>\n",
       "      <td>139.374</td>\n",
       "      <td>25.966</td>\n",
       "    </tr>\n",
       "    <tr>\n",
       "      <th>1</th>\n",
       "      <td>ECO00002</td>\n",
       "      <td>185.078</td>\n",
       "      <td>8.533</td>\n",
       "    </tr>\n",
       "    <tr>\n",
       "      <th>2</th>\n",
       "      <td>ECO00003</td>\n",
       "      <td>144.112</td>\n",
       "      <td>9.606</td>\n",
       "    </tr>\n",
       "    <tr>\n",
       "      <th>3</th>\n",
       "      <td>ECO00004</td>\n",
       "      <td>144.992</td>\n",
       "      <td>9.179</td>\n",
       "    </tr>\n",
       "    <tr>\n",
       "      <th>4</th>\n",
       "      <td>ECO00005</td>\n",
       "      <td>145.612</td>\n",
       "      <td>10.219</td>\n",
       "    </tr>\n",
       "  </tbody>\n",
       "</table>\n",
       "</div>"
      ],
      "text/plain": [
       "       NAME    RADEG   DEDEG\n",
       "0  ECO00001  139.374  25.966\n",
       "1  ECO00002  185.078   8.533\n",
       "2  ECO00003  144.112   9.606\n",
       "3  ECO00004  144.992   9.179\n",
       "4  ECO00005  145.612  10.219"
      ]
     },
     "execution_count": 23,
     "metadata": {},
     "output_type": "execute_result"
    }
   ],
   "source": [
    "print t1.shape\n",
    "t1.head()"
   ]
  },
  {
   "cell_type": "code",
   "execution_count": 24,
   "metadata": {
    "collapsed": false
   },
   "outputs": [
    {
     "name": "stdout",
     "output_type": "stream",
     "text": [
      "(800, 15)\n"
     ]
    },
    {
     "data": {
      "text/html": [
       "<div>\n",
       "<table border=\"1\" class=\"dataframe\">\n",
       "  <thead>\n",
       "    <tr style=\"text-align: right;\">\n",
       "      <th></th>\n",
       "      <th>NAME</th>\n",
       "      <th>RADEG</th>\n",
       "      <th>DEDEG</th>\n",
       "      <th>CZ</th>\n",
       "      <th>LOGMSTAR</th>\n",
       "      <th>MODELU_RCORR</th>\n",
       "      <th>R90</th>\n",
       "      <th>MORPHEL</th>\n",
       "      <th>GRPCZ</th>\n",
       "      <th>FC</th>\n",
       "      <th>LOGMH</th>\n",
       "      <th>DEN1MPC</th>\n",
       "      <th>m_vel_sum</th>\n",
       "      <th>MSTAR</th>\n",
       "      <th>MH</th>\n",
       "    </tr>\n",
       "  </thead>\n",
       "  <tbody>\n",
       "    <tr>\n",
       "      <th>2</th>\n",
       "      <td>ECO00003</td>\n",
       "      <td>144.112</td>\n",
       "      <td>9.606</td>\n",
       "      <td>5443.5</td>\n",
       "      <td>8.19</td>\n",
       "      <td>0.87</td>\n",
       "      <td>21.6</td>\n",
       "      <td>L</td>\n",
       "      <td>5425.4</td>\n",
       "      <td>0</td>\n",
       "      <td>11.14</td>\n",
       "      <td>1.03</td>\n",
       "      <td>10.8689</td>\n",
       "      <td>3604.722246</td>\n",
       "      <td>68871.656444</td>\n",
       "    </tr>\n",
       "    <tr>\n",
       "      <th>3</th>\n",
       "      <td>ECO00004</td>\n",
       "      <td>144.992</td>\n",
       "      <td>9.179</td>\n",
       "      <td>6374.6</td>\n",
       "      <td>8.45</td>\n",
       "      <td>0.88</td>\n",
       "      <td>10.0</td>\n",
       "      <td>L</td>\n",
       "      <td>6374.6</td>\n",
       "      <td>1</td>\n",
       "      <td>10.77</td>\n",
       "      <td>0.31</td>\n",
       "      <td>12.7492</td>\n",
       "      <td>4675.072736</td>\n",
       "      <td>47572.017514</td>\n",
       "    </tr>\n",
       "    <tr>\n",
       "      <th>5</th>\n",
       "      <td>ECO00006</td>\n",
       "      <td>148.788</td>\n",
       "      <td>5.728</td>\n",
       "      <td>6962.2</td>\n",
       "      <td>8.31</td>\n",
       "      <td>0.95</td>\n",
       "      <td>9.9</td>\n",
       "      <td>L</td>\n",
       "      <td>6962.2</td>\n",
       "      <td>1</td>\n",
       "      <td>10.77</td>\n",
       "      <td>0.37</td>\n",
       "      <td>13.9244</td>\n",
       "      <td>4064.312984</td>\n",
       "      <td>47572.017514</td>\n",
       "    </tr>\n",
       "    <tr>\n",
       "      <th>6</th>\n",
       "      <td>ECO00007</td>\n",
       "      <td>149.419</td>\n",
       "      <td>10.124</td>\n",
       "      <td>5230.4</td>\n",
       "      <td>8.39</td>\n",
       "      <td>1.20</td>\n",
       "      <td>17.8</td>\n",
       "      <td>L</td>\n",
       "      <td>5230.4</td>\n",
       "      <td>1</td>\n",
       "      <td>10.76</td>\n",
       "      <td>1.52</td>\n",
       "      <td>10.4608</td>\n",
       "      <td>4402.817694</td>\n",
       "      <td>47098.668031</td>\n",
       "    </tr>\n",
       "    <tr>\n",
       "      <th>7</th>\n",
       "      <td>ECO00008</td>\n",
       "      <td>155.820</td>\n",
       "      <td>9.225</td>\n",
       "      <td>4580.1</td>\n",
       "      <td>8.43</td>\n",
       "      <td>0.95</td>\n",
       "      <td>21.5</td>\n",
       "      <td>L</td>\n",
       "      <td>4580.1</td>\n",
       "      <td>1</td>\n",
       "      <td>10.76</td>\n",
       "      <td>0.32</td>\n",
       "      <td>9.1602</td>\n",
       "      <td>4582.500093</td>\n",
       "      <td>47098.668031</td>\n",
       "    </tr>\n",
       "  </tbody>\n",
       "</table>\n",
       "</div>"
      ],
      "text/plain": [
       "       NAME    RADEG   DEDEG      CZ  LOGMSTAR  MODELU_RCORR   R90 MORPHEL  \\\n",
       "2  ECO00003  144.112   9.606  5443.5      8.19          0.87  21.6       L   \n",
       "3  ECO00004  144.992   9.179  6374.6      8.45          0.88  10.0       L   \n",
       "5  ECO00006  148.788   5.728  6962.2      8.31          0.95   9.9       L   \n",
       "6  ECO00007  149.419  10.124  5230.4      8.39          1.20  17.8       L   \n",
       "7  ECO00008  155.820   9.225  4580.1      8.43          0.95  21.5       L   \n",
       "\n",
       "    GRPCZ  FC  LOGMH  DEN1MPC  m_vel_sum        MSTAR            MH  \n",
       "2  5425.4   0  11.14     1.03    10.8689  3604.722246  68871.656444  \n",
       "3  6374.6   1  10.77     0.31    12.7492  4675.072736  47572.017514  \n",
       "5  6962.2   1  10.77     0.37    13.9244  4064.312984  47572.017514  \n",
       "6  5230.4   1  10.76     1.52    10.4608  4402.817694  47098.668031  \n",
       "7  4580.1   1  10.76     0.32     9.1602  4582.500093  47098.668031  "
      ]
     },
     "execution_count": 24,
     "metadata": {},
     "output_type": "execute_result"
    }
   ],
   "source": [
    "print t2.shape\n",
    "t2.head()"
   ]
  },
  {
   "cell_type": "code",
   "execution_count": 25,
   "metadata": {
    "collapsed": false
   },
   "outputs": [
    {
     "name": "stdout",
     "output_type": "stream",
     "text": [
      "(23, 15)\n"
     ]
    },
    {
     "data": {
      "text/html": [
       "<div>\n",
       "<table border=\"1\" class=\"dataframe\">\n",
       "  <thead>\n",
       "    <tr style=\"text-align: right;\">\n",
       "      <th></th>\n",
       "      <th>NAME</th>\n",
       "      <th>RADEG</th>\n",
       "      <th>DEDEG</th>\n",
       "      <th>CZ</th>\n",
       "      <th>LOGMSTAR</th>\n",
       "      <th>MODELU_RCORR</th>\n",
       "      <th>R90</th>\n",
       "      <th>MORPHEL</th>\n",
       "      <th>GRPCZ</th>\n",
       "      <th>FC</th>\n",
       "      <th>LOGMH</th>\n",
       "      <th>DEN1MPC</th>\n",
       "      <th>m_vel_sum</th>\n",
       "      <th>MSTAR</th>\n",
       "      <th>MH</th>\n",
       "    </tr>\n",
       "  </thead>\n",
       "  <tbody>\n",
       "    <tr>\n",
       "      <th>0</th>\n",
       "      <td>ECO00003</td>\n",
       "      <td>144.112</td>\n",
       "      <td>9.606</td>\n",
       "      <td>5443.5</td>\n",
       "      <td>8.19</td>\n",
       "      <td>0.87</td>\n",
       "      <td>21.6</td>\n",
       "      <td>L</td>\n",
       "      <td>5425.4</td>\n",
       "      <td>0</td>\n",
       "      <td>11.14</td>\n",
       "      <td>1.03</td>\n",
       "      <td>10.8689</td>\n",
       "      <td>3604.722246</td>\n",
       "      <td>68871.656444</td>\n",
       "    </tr>\n",
       "    <tr>\n",
       "      <th>1</th>\n",
       "      <td>ECO00004</td>\n",
       "      <td>144.992</td>\n",
       "      <td>9.179</td>\n",
       "      <td>6374.6</td>\n",
       "      <td>8.45</td>\n",
       "      <td>0.88</td>\n",
       "      <td>10.0</td>\n",
       "      <td>L</td>\n",
       "      <td>6374.6</td>\n",
       "      <td>1</td>\n",
       "      <td>10.77</td>\n",
       "      <td>0.31</td>\n",
       "      <td>12.7492</td>\n",
       "      <td>4675.072736</td>\n",
       "      <td>47572.017514</td>\n",
       "    </tr>\n",
       "    <tr>\n",
       "      <th>2</th>\n",
       "      <td>ECO00006</td>\n",
       "      <td>148.788</td>\n",
       "      <td>5.728</td>\n",
       "      <td>6962.2</td>\n",
       "      <td>8.31</td>\n",
       "      <td>0.95</td>\n",
       "      <td>9.9</td>\n",
       "      <td>L</td>\n",
       "      <td>6962.2</td>\n",
       "      <td>1</td>\n",
       "      <td>10.77</td>\n",
       "      <td>0.37</td>\n",
       "      <td>13.9244</td>\n",
       "      <td>4064.312984</td>\n",
       "      <td>47572.017514</td>\n",
       "    </tr>\n",
       "    <tr>\n",
       "      <th>3</th>\n",
       "      <td>ECO00007</td>\n",
       "      <td>149.419</td>\n",
       "      <td>10.124</td>\n",
       "      <td>5230.4</td>\n",
       "      <td>8.39</td>\n",
       "      <td>1.20</td>\n",
       "      <td>17.8</td>\n",
       "      <td>L</td>\n",
       "      <td>5230.4</td>\n",
       "      <td>1</td>\n",
       "      <td>10.76</td>\n",
       "      <td>1.52</td>\n",
       "      <td>10.4608</td>\n",
       "      <td>4402.817694</td>\n",
       "      <td>47098.668031</td>\n",
       "    </tr>\n",
       "    <tr>\n",
       "      <th>4</th>\n",
       "      <td>ECO00008</td>\n",
       "      <td>155.820</td>\n",
       "      <td>9.225</td>\n",
       "      <td>4580.1</td>\n",
       "      <td>8.43</td>\n",
       "      <td>0.95</td>\n",
       "      <td>21.5</td>\n",
       "      <td>L</td>\n",
       "      <td>4580.1</td>\n",
       "      <td>1</td>\n",
       "      <td>10.76</td>\n",
       "      <td>0.32</td>\n",
       "      <td>9.1602</td>\n",
       "      <td>4582.500093</td>\n",
       "      <td>47098.668031</td>\n",
       "    </tr>\n",
       "  </tbody>\n",
       "</table>\n",
       "</div>"
      ],
      "text/plain": [
       "       NAME    RADEG   DEDEG      CZ  LOGMSTAR  MODELU_RCORR   R90 MORPHEL  \\\n",
       "0  ECO00003  144.112   9.606  5443.5      8.19          0.87  21.6       L   \n",
       "1  ECO00004  144.992   9.179  6374.6      8.45          0.88  10.0       L   \n",
       "2  ECO00006  148.788   5.728  6962.2      8.31          0.95   9.9       L   \n",
       "3  ECO00007  149.419  10.124  5230.4      8.39          1.20  17.8       L   \n",
       "4  ECO00008  155.820   9.225  4580.1      8.43          0.95  21.5       L   \n",
       "\n",
       "    GRPCZ  FC  LOGMH  DEN1MPC  m_vel_sum        MSTAR            MH  \n",
       "0  5425.4   0  11.14     1.03    10.8689  3604.722246  68871.656444  \n",
       "1  6374.6   1  10.77     0.31    12.7492  4675.072736  47572.017514  \n",
       "2  6962.2   1  10.77     0.37    13.9244  4064.312984  47572.017514  \n",
       "3  5230.4   1  10.76     1.52    10.4608  4402.817694  47098.668031  \n",
       "4  4580.1   1  10.76     0.32     9.1602  4582.500093  47098.668031  "
      ]
     },
     "execution_count": 25,
     "metadata": {},
     "output_type": "execute_result"
    }
   ],
   "source": [
    "tin = pd.merge(t1, t2, how='inner')\n",
    "print tin.shape\n",
    "tin.head()"
   ]
  },
  {
   "cell_type": "code",
   "execution_count": 26,
   "metadata": {
    "collapsed": false
   },
   "outputs": [
    {
     "name": "stdout",
     "output_type": "stream",
     "text": [
      "(827, 15)\n"
     ]
    },
    {
     "data": {
      "text/html": [
       "<div>\n",
       "<table border=\"1\" class=\"dataframe\">\n",
       "  <thead>\n",
       "    <tr style=\"text-align: right;\">\n",
       "      <th></th>\n",
       "      <th>NAME</th>\n",
       "      <th>RADEG</th>\n",
       "      <th>DEDEG</th>\n",
       "      <th>CZ</th>\n",
       "      <th>LOGMSTAR</th>\n",
       "      <th>MODELU_RCORR</th>\n",
       "      <th>R90</th>\n",
       "      <th>MORPHEL</th>\n",
       "      <th>GRPCZ</th>\n",
       "      <th>FC</th>\n",
       "      <th>LOGMH</th>\n",
       "      <th>DEN1MPC</th>\n",
       "      <th>m_vel_sum</th>\n",
       "      <th>MSTAR</th>\n",
       "      <th>MH</th>\n",
       "    </tr>\n",
       "  </thead>\n",
       "  <tbody>\n",
       "    <tr>\n",
       "      <th>0</th>\n",
       "      <td>ECO00001</td>\n",
       "      <td>139.374</td>\n",
       "      <td>25.966</td>\n",
       "      <td>NaN</td>\n",
       "      <td>NaN</td>\n",
       "      <td>NaN</td>\n",
       "      <td>NaN</td>\n",
       "      <td>NaN</td>\n",
       "      <td>NaN</td>\n",
       "      <td>NaN</td>\n",
       "      <td>NaN</td>\n",
       "      <td>NaN</td>\n",
       "      <td>NaN</td>\n",
       "      <td>NaN</td>\n",
       "      <td>NaN</td>\n",
       "    </tr>\n",
       "    <tr>\n",
       "      <th>1</th>\n",
       "      <td>ECO00002</td>\n",
       "      <td>185.078</td>\n",
       "      <td>8.533</td>\n",
       "      <td>NaN</td>\n",
       "      <td>NaN</td>\n",
       "      <td>NaN</td>\n",
       "      <td>NaN</td>\n",
       "      <td>NaN</td>\n",
       "      <td>NaN</td>\n",
       "      <td>NaN</td>\n",
       "      <td>NaN</td>\n",
       "      <td>NaN</td>\n",
       "      <td>NaN</td>\n",
       "      <td>NaN</td>\n",
       "      <td>NaN</td>\n",
       "    </tr>\n",
       "    <tr>\n",
       "      <th>2</th>\n",
       "      <td>ECO00003</td>\n",
       "      <td>144.112</td>\n",
       "      <td>9.606</td>\n",
       "      <td>5443.5</td>\n",
       "      <td>8.19</td>\n",
       "      <td>0.87</td>\n",
       "      <td>21.6</td>\n",
       "      <td>L</td>\n",
       "      <td>5425.4</td>\n",
       "      <td>0</td>\n",
       "      <td>11.14</td>\n",
       "      <td>1.03</td>\n",
       "      <td>10.8689</td>\n",
       "      <td>3604.722246</td>\n",
       "      <td>68871.656444</td>\n",
       "    </tr>\n",
       "    <tr>\n",
       "      <th>3</th>\n",
       "      <td>ECO00004</td>\n",
       "      <td>144.992</td>\n",
       "      <td>9.179</td>\n",
       "      <td>6374.6</td>\n",
       "      <td>8.45</td>\n",
       "      <td>0.88</td>\n",
       "      <td>10.0</td>\n",
       "      <td>L</td>\n",
       "      <td>6374.6</td>\n",
       "      <td>1</td>\n",
       "      <td>10.77</td>\n",
       "      <td>0.31</td>\n",
       "      <td>12.7492</td>\n",
       "      <td>4675.072736</td>\n",
       "      <td>47572.017514</td>\n",
       "    </tr>\n",
       "    <tr>\n",
       "      <th>4</th>\n",
       "      <td>ECO00005</td>\n",
       "      <td>145.612</td>\n",
       "      <td>10.219</td>\n",
       "      <td>NaN</td>\n",
       "      <td>NaN</td>\n",
       "      <td>NaN</td>\n",
       "      <td>NaN</td>\n",
       "      <td>NaN</td>\n",
       "      <td>NaN</td>\n",
       "      <td>NaN</td>\n",
       "      <td>NaN</td>\n",
       "      <td>NaN</td>\n",
       "      <td>NaN</td>\n",
       "      <td>NaN</td>\n",
       "      <td>NaN</td>\n",
       "    </tr>\n",
       "  </tbody>\n",
       "</table>\n",
       "</div>"
      ],
      "text/plain": [
       "       NAME    RADEG   DEDEG      CZ  LOGMSTAR  MODELU_RCORR   R90 MORPHEL  \\\n",
       "0  ECO00001  139.374  25.966     NaN       NaN           NaN   NaN     NaN   \n",
       "1  ECO00002  185.078   8.533     NaN       NaN           NaN   NaN     NaN   \n",
       "2  ECO00003  144.112   9.606  5443.5      8.19          0.87  21.6       L   \n",
       "3  ECO00004  144.992   9.179  6374.6      8.45          0.88  10.0       L   \n",
       "4  ECO00005  145.612  10.219     NaN       NaN           NaN   NaN     NaN   \n",
       "\n",
       "    GRPCZ  FC  LOGMH  DEN1MPC  m_vel_sum        MSTAR            MH  \n",
       "0     NaN NaN    NaN      NaN        NaN          NaN           NaN  \n",
       "1     NaN NaN    NaN      NaN        NaN          NaN           NaN  \n",
       "2  5425.4   0  11.14     1.03    10.8689  3604.722246  68871.656444  \n",
       "3  6374.6   1  10.77     0.31    12.7492  4675.072736  47572.017514  \n",
       "4     NaN NaN    NaN      NaN        NaN          NaN           NaN  "
      ]
     },
     "execution_count": 26,
     "metadata": {},
     "output_type": "execute_result"
    }
   ],
   "source": [
    "tout = pd.merge(t1, t2, how='outer')\n",
    "print tout.shape\n",
    "tout.head()"
   ]
  },
  {
   "cell_type": "markdown",
   "metadata": {},
   "source": [
    "Summarizing -- using pivot tables\n",
    "\n",
    "values: values we are interested in\n",
    "columns: columns we want to group over"
   ]
  },
  {
   "cell_type": "code",
   "execution_count": 27,
   "metadata": {
    "collapsed": false
   },
   "outputs": [
    {
     "data": {
      "text/html": [
       "<div>\n",
       "<table border=\"1\" class=\"dataframe\">\n",
       "  <thead>\n",
       "    <tr style=\"text-align: right;\">\n",
       "      <th>MORPHEL</th>\n",
       "      <th>E</th>\n",
       "      <th>L</th>\n",
       "      <th>None</th>\n",
       "    </tr>\n",
       "  </thead>\n",
       "  <tbody>\n",
       "    <tr>\n",
       "      <th>CZ</th>\n",
       "      <td>6525.6</td>\n",
       "      <td>6515.2</td>\n",
       "      <td>5544.85</td>\n",
       "    </tr>\n",
       "    <tr>\n",
       "      <th>GRPCZ</th>\n",
       "      <td>6565.4</td>\n",
       "      <td>6522.8</td>\n",
       "      <td>5658.70</td>\n",
       "    </tr>\n",
       "  </tbody>\n",
       "</table>\n",
       "</div>"
      ],
      "text/plain": [
       "MORPHEL       E       L     None\n",
       "CZ       6525.6  6515.2  5544.85\n",
       "GRPCZ    6565.4  6522.8  5658.70"
      ]
     },
     "execution_count": 27,
     "metadata": {},
     "output_type": "execute_result"
    }
   ],
   "source": [
    "pd.pivot_table(eco, values=['CZ', 'GRPCZ'], columns=['MORPHEL'], aggfunc=np.median)"
   ]
  },
  {
   "cell_type": "markdown",
   "metadata": {},
   "source": [
    "Can add an additional parameter to index over (here FC: flag indicating central or satellite)"
   ]
  },
  {
   "cell_type": "code",
   "execution_count": 28,
   "metadata": {
    "collapsed": false
   },
   "outputs": [
    {
     "data": {
      "text/html": [
       "<div>\n",
       "<table border=\"1\" class=\"dataframe\">\n",
       "  <thead>\n",
       "    <tr>\n",
       "      <th></th>\n",
       "      <th colspan=\"3\" halign=\"left\">CZ</th>\n",
       "      <th colspan=\"3\" halign=\"left\">GRPCZ</th>\n",
       "    </tr>\n",
       "    <tr>\n",
       "      <th>MORPHEL</th>\n",
       "      <th>E</th>\n",
       "      <th>L</th>\n",
       "      <th>None</th>\n",
       "      <th>E</th>\n",
       "      <th>L</th>\n",
       "      <th>None</th>\n",
       "    </tr>\n",
       "    <tr>\n",
       "      <th>FC</th>\n",
       "      <th></th>\n",
       "      <th></th>\n",
       "      <th></th>\n",
       "      <th></th>\n",
       "      <th></th>\n",
       "      <th></th>\n",
       "    </tr>\n",
       "  </thead>\n",
       "  <tbody>\n",
       "    <tr>\n",
       "      <th>0</th>\n",
       "      <td>6574.20</td>\n",
       "      <td>6575.6</td>\n",
       "      <td>6361.3</td>\n",
       "      <td>6589.00</td>\n",
       "      <td>6589.0</td>\n",
       "      <td>6589.0</td>\n",
       "    </tr>\n",
       "    <tr>\n",
       "      <th>1</th>\n",
       "      <td>6486.75</td>\n",
       "      <td>6487.4</td>\n",
       "      <td>4728.4</td>\n",
       "      <td>6488.35</td>\n",
       "      <td>6490.8</td>\n",
       "      <td>4728.4</td>\n",
       "    </tr>\n",
       "  </tbody>\n",
       "</table>\n",
       "</div>"
      ],
      "text/plain": [
       "              CZ                    GRPCZ                \n",
       "MORPHEL        E       L    None        E       L    None\n",
       "FC                                                       \n",
       "0        6574.20  6575.6  6361.3  6589.00  6589.0  6589.0\n",
       "1        6486.75  6487.4  4728.4  6488.35  6490.8  4728.4"
      ]
     },
     "execution_count": 28,
     "metadata": {},
     "output_type": "execute_result"
    }
   ],
   "source": [
    "summary = pd.pivot_table(eco, values=['CZ', 'GRPCZ'], index=['FC'], columns=['MORPHEL'], aggfunc=np.median)\n",
    "summary"
   ]
  },
  {
   "cell_type": "markdown",
   "metadata": {},
   "source": [
    "Note this is no longer tidy data (see Erin Conn's seaborn presentation), which is necessary not only for seaborn, but also for a number of the standard ML algorithms. Can convert it using melt (has more options)"
   ]
  },
  {
   "cell_type": "code",
   "execution_count": 29,
   "metadata": {
    "collapsed": false
   },
   "outputs": [
    {
     "data": {
      "text/html": [
       "<div>\n",
       "<table border=\"1\" class=\"dataframe\">\n",
       "  <thead>\n",
       "    <tr style=\"text-align: right;\">\n",
       "      <th></th>\n",
       "      <th>None</th>\n",
       "      <th>MORPHEL</th>\n",
       "      <th>value</th>\n",
       "    </tr>\n",
       "  </thead>\n",
       "  <tbody>\n",
       "    <tr>\n",
       "      <th>0</th>\n",
       "      <td>CZ</td>\n",
       "      <td>E</td>\n",
       "      <td>6574.20</td>\n",
       "    </tr>\n",
       "    <tr>\n",
       "      <th>1</th>\n",
       "      <td>CZ</td>\n",
       "      <td>E</td>\n",
       "      <td>6486.75</td>\n",
       "    </tr>\n",
       "    <tr>\n",
       "      <th>2</th>\n",
       "      <td>CZ</td>\n",
       "      <td>L</td>\n",
       "      <td>6575.60</td>\n",
       "    </tr>\n",
       "    <tr>\n",
       "      <th>3</th>\n",
       "      <td>CZ</td>\n",
       "      <td>L</td>\n",
       "      <td>6487.40</td>\n",
       "    </tr>\n",
       "    <tr>\n",
       "      <th>4</th>\n",
       "      <td>CZ</td>\n",
       "      <td>None</td>\n",
       "      <td>6361.30</td>\n",
       "    </tr>\n",
       "    <tr>\n",
       "      <th>5</th>\n",
       "      <td>CZ</td>\n",
       "      <td>None</td>\n",
       "      <td>4728.40</td>\n",
       "    </tr>\n",
       "    <tr>\n",
       "      <th>6</th>\n",
       "      <td>GRPCZ</td>\n",
       "      <td>E</td>\n",
       "      <td>6589.00</td>\n",
       "    </tr>\n",
       "    <tr>\n",
       "      <th>7</th>\n",
       "      <td>GRPCZ</td>\n",
       "      <td>E</td>\n",
       "      <td>6488.35</td>\n",
       "    </tr>\n",
       "    <tr>\n",
       "      <th>8</th>\n",
       "      <td>GRPCZ</td>\n",
       "      <td>L</td>\n",
       "      <td>6589.00</td>\n",
       "    </tr>\n",
       "    <tr>\n",
       "      <th>9</th>\n",
       "      <td>GRPCZ</td>\n",
       "      <td>L</td>\n",
       "      <td>6490.80</td>\n",
       "    </tr>\n",
       "    <tr>\n",
       "      <th>10</th>\n",
       "      <td>GRPCZ</td>\n",
       "      <td>None</td>\n",
       "      <td>6589.00</td>\n",
       "    </tr>\n",
       "    <tr>\n",
       "      <th>11</th>\n",
       "      <td>GRPCZ</td>\n",
       "      <td>None</td>\n",
       "      <td>4728.40</td>\n",
       "    </tr>\n",
       "  </tbody>\n",
       "</table>\n",
       "</div>"
      ],
      "text/plain": [
       "      NaN MORPHEL    value\n",
       "0      CZ       E  6574.20\n",
       "1      CZ       E  6486.75\n",
       "2      CZ       L  6575.60\n",
       "3      CZ       L  6487.40\n",
       "4      CZ    None  6361.30\n",
       "5      CZ    None  4728.40\n",
       "6   GRPCZ       E  6589.00\n",
       "7   GRPCZ       E  6488.35\n",
       "8   GRPCZ       L  6589.00\n",
       "9   GRPCZ       L  6490.80\n",
       "10  GRPCZ    None  6589.00\n",
       "11  GRPCZ    None  4728.40"
      ]
     },
     "execution_count": 29,
     "metadata": {},
     "output_type": "execute_result"
    }
   ],
   "source": [
    "pd.melt(summary)"
   ]
  },
  {
   "cell_type": "markdown",
   "metadata": {},
   "source": [
    "##  Working with missing data\n",
    "\n",
    "Looking at unique values using value_counts()"
   ]
  },
  {
   "cell_type": "code",
   "execution_count": 30,
   "metadata": {
    "collapsed": false
   },
   "outputs": [
    {
     "data": {
      "text/plain": [
       "1    8865\n",
       "0    3816\n",
       "Name: FC, dtype: int64"
      ]
     },
     "execution_count": 30,
     "metadata": {},
     "output_type": "execute_result"
    }
   ],
   "source": [
    "eco.FC.value_counts()"
   ]
  },
  {
   "cell_type": "code",
   "execution_count": 31,
   "metadata": {
    "collapsed": false
   },
   "outputs": [
    {
     "data": {
      "text/plain": [
       "L       9401\n",
       "E       3278\n",
       "None       2\n",
       "Name: MORPHEL, dtype: int64"
      ]
     },
     "execution_count": 31,
     "metadata": {},
     "output_type": "execute_result"
    }
   ],
   "source": [
    "eco.MORPHEL.value_counts()"
   ]
  },
  {
   "cell_type": "code",
   "execution_count": 32,
   "metadata": {
    "collapsed": false
   },
   "outputs": [
    {
     "data": {
      "text/plain": [
       "NAME            ECO00001\n",
       "RADEG            130.065\n",
       "DEDEG             -0.998\n",
       "CZ                2532.8\n",
       "LOGMSTAR            6.39\n",
       "MODELU_RCORR      -99.99\n",
       "R90                -99.9\n",
       "MORPHEL                E\n",
       "GRPCZ             2532.8\n",
       "FC                     0\n",
       "LOGMH              10.74\n",
       "DEN1MPC                0\n",
       "m_vel_sum         5.0656\n",
       "MSTAR            595.857\n",
       "MH               46166.1\n",
       "dtype: object"
      ]
     },
     "execution_count": 32,
     "metadata": {},
     "output_type": "execute_result"
    }
   ],
   "source": [
    "eco.min()"
   ]
  },
  {
   "cell_type": "markdown",
   "metadata": {},
   "source": [
    "Since in ECO missing data is denoted by -99, setting it as missing.\n",
    "\n",
    "Note that missing values don't make into calulations or plots"
   ]
  },
  {
   "cell_type": "code",
   "execution_count": 33,
   "metadata": {
    "collapsed": false
   },
   "outputs": [
    {
     "data": {
      "text/plain": [
       "NAME            ECO00001\n",
       "RADEG            130.065\n",
       "DEDEG             -0.998\n",
       "CZ                2532.8\n",
       "LOGMSTAR            6.39\n",
       "MODELU_RCORR        0.49\n",
       "R90                  2.5\n",
       "MORPHEL              inf\n",
       "GRPCZ             2532.8\n",
       "FC                     0\n",
       "LOGMH              10.74\n",
       "DEN1MPC                0\n",
       "m_vel_sum         5.0656\n",
       "MSTAR            595.857\n",
       "MH               46166.1\n",
       "dtype: object"
      ]
     },
     "execution_count": 33,
     "metadata": {},
     "output_type": "execute_result"
    }
   ],
   "source": [
    "eco.replace(-99.99, np.nan, inplace=True)\n",
    "eco.replace(-99.9, np.nan, inplace=True)\n",
    "eco.replace('None', np.nan, inplace=True)\n",
    "eco.min()"
   ]
  },
  {
   "cell_type": "code",
   "execution_count": 34,
   "metadata": {
    "collapsed": false
   },
   "outputs": [
    {
     "data": {
      "text/plain": [
       "NAME            12681\n",
       "RADEG           12681\n",
       "DEDEG           12681\n",
       "CZ              12681\n",
       "LOGMSTAR        12681\n",
       "MODELU_RCORR    12680\n",
       "R90             12680\n",
       "MORPHEL         12679\n",
       "GRPCZ           12681\n",
       "FC              12681\n",
       "LOGMH           12681\n",
       "DEN1MPC         12681\n",
       "m_vel_sum       12681\n",
       "MSTAR           12681\n",
       "MH              12681\n",
       "dtype: int64"
      ]
     },
     "execution_count": 34,
     "metadata": {},
     "output_type": "execute_result"
    }
   ],
   "source": [
    "eco.count(axis=0)"
   ]
  },
  {
   "cell_type": "code",
   "execution_count": 35,
   "metadata": {
    "collapsed": false
   },
   "outputs": [
    {
     "data": {
      "text/plain": [
       "(12681, 15)"
      ]
     },
     "execution_count": 35,
     "metadata": {},
     "output_type": "execute_result"
    }
   ],
   "source": [
    "eco.shape"
   ]
  },
  {
   "cell_type": "markdown",
   "metadata": {},
   "source": [
    "Drop all rows with missing values"
   ]
  },
  {
   "cell_type": "code",
   "execution_count": 36,
   "metadata": {
    "collapsed": false
   },
   "outputs": [
    {
     "data": {
      "text/plain": [
       "(12678, 15)"
      ]
     },
     "execution_count": 36,
     "metadata": {},
     "output_type": "execute_result"
    }
   ],
   "source": [
    "eco.dropna(axis=0).shape"
   ]
  },
  {
   "cell_type": "markdown",
   "metadata": {},
   "source": [
    "Replace the missing value with something"
   ]
  },
  {
   "cell_type": "code",
   "execution_count": 37,
   "metadata": {
    "collapsed": false
   },
   "outputs": [
    {
     "data": {
      "text/plain": [
       "NAME            12681\n",
       "RADEG           12681\n",
       "DEDEG           12681\n",
       "CZ              12681\n",
       "LOGMSTAR        12681\n",
       "MODELU_RCORR    12681\n",
       "R90             12681\n",
       "MORPHEL         12679\n",
       "GRPCZ           12681\n",
       "FC              12681\n",
       "LOGMH           12681\n",
       "DEN1MPC         12681\n",
       "m_vel_sum       12681\n",
       "MSTAR           12681\n",
       "MH              12681\n",
       "dtype: int64"
      ]
     },
     "execution_count": 37,
     "metadata": {},
     "output_type": "execute_result"
    }
   ],
   "source": [
    "eco.fillna(eco.mean()).count(axis=0)"
   ]
  },
  {
   "cell_type": "markdown",
   "metadata": {},
   "source": [
    "Can also interpolate using df.interpolate, or custom values"
   ]
  },
  {
   "cell_type": "code",
   "execution_count": null,
   "metadata": {
    "collapsed": true
   },
   "outputs": [],
   "source": []
  }
 ],
 "metadata": {
  "kernelspec": {
   "display_name": "Python 2",
   "language": "python",
   "name": "python2"
  },
  "language_info": {
   "codemirror_mode": {
    "name": "ipython",
    "version": 2
   },
   "file_extension": ".py",
   "mimetype": "text/x-python",
   "name": "python",
   "nbconvert_exporter": "python",
   "pygments_lexer": "ipython2",
   "version": "2.7.12"
  }
 },
 "nbformat": 4,
 "nbformat_minor": 1
}
