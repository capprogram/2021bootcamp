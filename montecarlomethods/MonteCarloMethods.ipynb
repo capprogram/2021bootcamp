{
 "cells": [
  {
   "cell_type": "markdown",
   "metadata": {},
   "source": [
    "# Monte Carlo Methods\n",
    "\n",
    "This tutorial will introduce you to Monte Carlo Methods.\n",
    "> _&quot;Monte Carlo methods&quot; is a term covering pretty much any use of pseudo-randomness to help solve any kind of problem._ -- Niall O&#39;Higgins\n",
    "\n",
    "Author: Sheila Kannappan\n",
    "Last Modified: June 2021"
   ]
  },
  {
   "cell_type": "markdown",
   "metadata": {},
   "source": [
    "## Setup\n",
    "\n",
    "If you're looking at this notebook, you've presumably already followed these instructions. Please take a moment to complete any that you have not yet finished.\n",
    "\n",
    " * go to https://jupyter.org/try\n",
    " * click \"Try JupyterLab\"\n",
    " * open a terminal in the Lab (File>New>Terminal)\n",
    " * paste the following into the terminal to get the jupyter notebook:<br/>\n",
    "  `wget https://raw.githubusercontent.com/capprogram/2021bootcamp/master/montecarlomethods/MonteCarloMethods.ipynb -P /home/jovyan/demo`\n",
    " * paste all of the following into the terminal to get the individual python codes:<br/>\n",
    "  `wget https://raw.githubusercontent.com/capprogram/2021bootcamp/master/montecarlomethods/partI_1and2.py -P /home/jovyan/demo` <br>\n",
    "  `wget https://raw.githubusercontent.com/capprogram/2021bootcamp/master/montecarlomethods/partI_3and4.py -P /home/jovyan/demo` <br>\n",
    "  `wget https://raw.githubusercontent.com/capprogram/2021bootcamp/master/montecarlomethods/partII_1.py -P /home/jovyan/demo` <br>\n",
    "  `wget https://raw.githubusercontent.com/capprogram/2021bootcamp/master/montecarlomethods/partII_2.py -P /home/jovyan/demo` <br>\n",
    "  `wget https://raw.githubusercontent.com/capprogram/2021bootcamp/master/montecarlomethods/partIII_1.py -P /home/jovyan/demo` <br>\n",
    "  `wget https://raw.githubusercontent.com/capprogram/2021bootcamp/master/montecarlomethods/partIII_2.py -P /home/jovyan/demo`  <br>\n",
    " * if necessary, click the refresh page (curled arrow) at the top of the webpage\n",
    " * launch the jupyter notebook by double clicking on it\n",
    " * you can run or re-run individual cells in the notebook by clicking on them and typing Ctrl-Enter\n",
    " * you can edit individual python codes outside the notebook by double clicking on them in the list of files on the left side of the jupyter lab window, then editing them in the window that pops up and saving with Ctrl-s"
   ]
  },
  {
   "cell_type": "markdown",
   "metadata": {},
   "source": [
    "The .py files transferred above contain partial answers to the exercises below, left incomplete for you to finish. Select exercises have solutions as detailed below."
   ]
  },
  {
   "cell_type": "markdown",
   "metadata": {},
   "source": [
    "# I. Random Number Generators\n",
    "\n",
    "There are two ways to generate random numbers:\n",
    "\n",
    "- physical measurements that are expected to be random (e.g., coin flips)\n",
    "- computational algorithms that produce long sequences of apparently random results, in fact completely determined by an initial &quot;seed&quot; value\n",
    "\n",
    "The latter are often called _pseudo-random_ number generators.\n",
    "\n",
    "Look over the description of the &quot;random&quot; package for python here: [https://docs.python.org/3/library/random.html](https://docs.python.org/3/library/random.html)\n",
    "\n",
    "Check out the Mersenne Twister on the internet -- it&#39;s not an amusement park ride!\n",
    "\n",
    "**Exercise 1:** Use _random.random_ to generate a variable x consisting of 10 random numbers between 0 and 1. Repeat to create a second random variable y, and plot x and y against each other. Verify that there is no correlation."
   ]
  },
  {
   "cell_type": "code",
   "execution_count": null,
   "metadata": {
    "collapsed": true
   },
   "outputs": [],
   "source": []
  },
  {
   "cell_type": "markdown",
   "metadata": {},
   "source": [
    "**Exercise 2:** Use _random.seed_ to control the random numbers in x and y such that they are identical. Plot x and y against each other and verify that there is a perfect correlation."
   ]
  },
  {
   "cell_type": "code",
   "execution_count": null,
   "metadata": {
    "collapsed": true
   },
   "outputs": [],
   "source": []
  },
  {
   "cell_type": "markdown",
   "metadata": {},
   "source": [
    "**Exercise 3:** Use _random.gauss_ to generate a variable u (for &quot;uncertainty&quot;) consisting of 1000 random numbers with mean zero and standard deviation &sigma; = 1. Create a histogram of the values to verify that they look like a Gaussian distribution <img src=\"https://latex.codecogs.com/png.latex?\\frac{1}{\\sigma\\sqrt{2\\pi}}\\exp{\\left(-\\frac{u^2}{2\\sigma^2}&space;\\right&space;)}\" />"
   ]
  }
 ],
 "metadata": {
  "kernelspec": {
   "display_name": "Python 3",
   "language": "python",
   "name": "python3"
  },
  "language_info": {
   "codemirror_mode": {
    "name": "ipython",
    "version": 3
   },
   "file_extension": ".py",
   "mimetype": "text/x-python",
   "name": "python",
   "nbconvert_exporter": "python",
   "pygments_lexer": "ipython3",
   "version": "3.6.3"
  }
 },
 "nbformat": 4,
 "nbformat_minor": 2
}
